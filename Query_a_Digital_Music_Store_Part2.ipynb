{
  "nbformat": 4,
  "nbformat_minor": 0,
  "metadata": {
    "colab": {
      "name": "Query-a-Digital-Music-Store-Part2.ipynb",
      "provenance": [],
      "authorship_tag": "ABX9TyNOGw2STmdlZyp3TBid5u4h",
      "include_colab_link": true
    },
    "kernelspec": {
      "name": "python3",
      "display_name": "Python 3"
    }
  },
  "cells": [
    {
      "cell_type": "markdown",
      "metadata": {
        "id": "view-in-github",
        "colab_type": "text"
      },
      "source": [
        "<a href=\"https://colab.research.google.com/github/malmusfer/SQL-Query-a-Digital-Music-Store/blob/main/Query_a_Digital_Music_Store_Part2.ipynb\" target=\"_parent\"><img src=\"https://colab.research.google.com/assets/colab-badge.svg\" alt=\"Open In Colab\"/></a>"
      ]
    },
    {
      "cell_type": "markdown",
      "metadata": {
        "id": "66hfnJrc57V5"
      },
      "source": [
        "![alt text](data:image/png;base64,iVBORw0KGgoAAAANSUhEUgAAAJcAAABPCAMAAADRLKcJAAAAeFBMVEX///8AsuTx+f0Ar+Pp9vz7/v8hteUxueYArOHPz9HK6fdUwOj2+/7k9PsAquGgoKTt7u/AwcN3f4WAzu2Z1vBkxerT7fj19faAgobc3t9CvOd5yuyN0u6s3fK54vTa8Pl1d3yrq61NVF4+SFNscHiLj5OWmJ20trlqCGW8AAAC0UlEQVRoge2Z23KjMAyGLQzYnBoI5AQNKdsmef83XMlAwil7tSi7M/5n6mKJjr+xZCdShbCysrJaX94fXH/wra2wjC4vXPuyDFlZnkp2EkDmSy63QpfecROR4k8pAVdX83h5BRiXdPixzmbh3F/gqn3arAKHmJtqX5o4ubGacV0i40qEZudyTWIpzGtnul8OJZb0KeXZuT5xRSnPBmPCVVDOtS5urlpSnPKWZsLlALqqjoaVKy5xOR25PciEywfY9xNWLhc3y39emHMu9bgbeLkwUoOp5bJclstyWS7LZbn+H67YB/8V1wcAXwk54RIl6MGmDLlcPX6Tl2sHclC+DrlqCYz145QLV6+WuZD4/D4ud1S9DrgcDdIVbJpy0bY8N2zAtQPOMFLFo0eGiwQdDryqPQa1Bv2qpbKKAD7GhhwrxqR7xqokMg97+aKhsprwYthPLY/iLNRt8EI0KVYs8SllMba4WDTKwlyhuam1Y2qZAHMvJ5Sz69JVGDW/uAgPCZOk8HGqGM9iK9ycemLydtSxAIUR9RX1n3TF38TEIPkzY0jtgV5avaWDudy73FeqpZKc1/xQeOimqW9ksh10zt4k7FXJJTDqioGOkoU/4FKEYLtxZsfUvZTwrtZ4JwLrriwjrzAtxKXo8qptZVbni+M5l3OlabOqN3TFZzINaZBaf2htnl7+44NbdQlSdjcDRG9OrJGSOo9KVUZ5zf6hY2VlZWVl9S/qcJhZ0qHXm7+wnrIMhxut/9Vstllr+9X6tptme6J5gN8Sm+a72eC3xh+E+1ofMCCUDXEd8edKGOK6Mb+O/W4RF2GaMd2K1s3JdWrM4N3I9dO/M+IS2XWzPtYS1+3efB9ecz3ta+pEW/MlxDOOh22QBvduIg5zriMHl2hu2dWk+zG7XwnnHjxI79k1eBeXSIM2v9PTyRyz9DGIU2As3f3QH4NUWFlZWf19/QbV0iIDxsjqHwAAAABJRU5ErkJggg== \"Udacity\") ![alt text](https://www.arabcoders.ae/frontend_v3/assets/img/logo.png \"1M Arab Coders\") \n",
        "\n",
        "\n",
        "\n",
        "\n",
        "# Data Analysis Track\n",
        "\n",
        "## Mini-porject: SQL Query a Digital Music Store - Part II\n",
        "## by: Almutairi, Muhanned\n",
        "![alt text](data:image/png;base64,iVBORw0KGgoAAAANSUhEUgAAACAAAAAgCAYAAABzenr0AAACtklEQVR4AeyVA5AkQRREZ862bTMcZ9u2wzrbtm3bWNvmaW3b3rzKRa+NOWVEDoqvqv//LZPtUpoubC2cLIxKMveyku1UmkYAG2EoyFYESFEgQIos346dX7K7YiFyN8iFB17Sxx4NRxzVdcbYO6aotke5cgB42sFXDGDjF4FM+UbGY+5TK9FXKQBKOKTtjNz68CMAdQ+oVjyAXPicoRtyS8M5GA0PqRGwgm9gxxdMf2SBkNhEZCoxORXbVH9CXllBWHOvCla9sQNPbegRit3qDmhyWL1SYkCKA7kIxvoH1MBrr5KZllJ/IWnK3zskZ/SXEIDB1vm0trAO6K5ndNCYN5DRz9tgWxdhfnc8pQ2madXdSmDb7CeWWPfOHite22LoDWMegiDFj4GJ983hFBLD9IOPcEB0AjZ8+S6daIeaAwJFG/v8ouJh4ROB3uf1sFHpB34GRSMmMRlJKalISE5hLEHJIRCjbptAXlyAmY8tEZ2QjOzaK4qSbHs6AItTdhHwvpU3N0ZB+hYQhcGXDTi//AFSUtNPW5SY3lX3KJc7gKSwuESYeIXByDMM4XFJyC1bv0i0PKbJoCx/ALewWMwSwccApZe9skFwTAKyiXEjPYZyBziq48zUlVK09j4VvLL3Q3ZFxCdh/D0z7lG+AHFJKVj03DrHwhxHqOzimjMeWZQ/QKQ42ZQH5jkW5u896o7IJmYJa0T5A/BqJ+S6Wv7eqebwH+A/QOUBTMwHYFdpAaY9tACrVqyYECPMOr9d1UF6Gx7QcgLb2McxfCOOu2uaB2CLyk/EJ6WPo4PEmtOLqgOsZK2Pa4IDSUvPeWKFXud1pRre94Ie5jy1kvqnC+AWxzTYn2Odnud0MSdjDM0i1ObXOvDVBQjNEFciMJrhKHJwH5FmDgIPfNds4DuniO75P3r6HNY9BwATNI1Cu+uNpgAAAABJRU5ErkJggg== \"LinkedIn profile\")[LinkedIn profile](https://www.linkedin.com/in/muhanned-almutairi-5bb1a5a0/)"
      ]
    },
    {
      "cell_type": "markdown",
      "metadata": {
        "id": "3ZolC-i_6ODA"
      },
      "source": [
        "#Chinook Database\n",
        "\n",
        "###Introduction\n",
        "\n",
        "In this mini-project, we will query the Chinook Database. The Chinook Database holds information about a music store. For this lab, we will be answering 5 queries to help the Chinook team understand the media in their store, their customers and employees, and their invoice information. To assist us in the queries ahead, the schema for the Chinook Database is provided below. We can see the columns that link tables together via the arrows.\n",
        "\n",
        "\n",
        "\n",
        "![alt text](https://video.udacity-data.com/topher/2019/February/5c6164bf_chinook/chinook.png \"schema\") "
      ]
    },
    {
      "cell_type": "markdown",
      "metadata": {
        "id": "k1hZzgeZ72UV"
      },
      "source": [
        "#Instructions\n",
        "\"In order to help the team at Chinook music store, We need to answer the following 5 queries\n",
        "\n",
        "###Q1 Use the Invoice table to determine the countries that have the most invoices. Provide a table of BillingCountry and Invoices ordered by the number of invoices for each country. The country with the most invoices should appear first.\n",
        "\n"
      ]
    },
    {
      "cell_type": "code",
      "metadata": {
        "id": "aOJz7QAT8OLF"
      },
      "source": [
        "SELECT billingcountry, Count(*) as number_invoices from Invoice\n",
        "group by 1\n",
        "order by 2 desc"
      ],
      "execution_count": null,
      "outputs": []
    },
    {
      "cell_type": "markdown",
      "metadata": {
        "id": "Nk_z94BN8Osg"
      },
      "source": [
        "###Q2 We would like to throw a promotional Music Festival in the city we made the most money. Write a query that returns the 1 city that has the highest sum of invoice totals. Return both the city name and the sum of all invoice totals.\n",
        "\n",
        "check our solution\n",
        "\n",
        "The top city for Invoice dollars was Prague with an amount of 90.24"
      ]
    },
    {
      "cell_type": "code",
      "metadata": {
        "id": "20gueDvq8SPi"
      },
      "source": [
        "SELECT billingcity,sum(total) as invoice_totals from Invoice\n",
        "group by 1\n",
        "order by 2 Desc\n",
        "limit 1"
      ],
      "execution_count": null,
      "outputs": []
    },
    {
      "cell_type": "markdown",
      "metadata": {
        "id": "hSOsc7Sg8X24"
      },
      "source": [
        "###Q3 The customer who has spent the most money will be declared the best customer. Build a query that returns the person who has spent the most money. I found the solution by linking the following three: Invoice, InvoiceLine, and Customer tables to retrieve this information, but we can probably do it with fewer!\n",
        "\n",
        "check our solution\n",
        "\n",
        "The customer who spent the most according to invoices was Customer 6 with 49.62 in purchases.\n"
      ]
    },
    {
      "cell_type": "code",
      "metadata": {
        "id": "V2vk0Uv28bFq"
      },
      "source": [
        "SELECT c.CustomerId,\n",
        "c.FirstName,\n",
        "c.LastName,\n",
        "sum(inv.UnitPrice) as invoices\n",
        "FROM Invoice i\n",
        "join InvoiceLine inv\n",
        "on inv.Invoiceid = i.Invoiceid\n",
        "join customer c\n",
        "on c.customerid = i.customerid\n",
        "group by c.CustomerId,c.FirstName,c.LastName\n",
        "order by i.total desc\n",
        "limit 1"
      ],
      "execution_count": null,
      "outputs": []
    },
    {
      "cell_type": "markdown",
      "metadata": {
        "id": "zQsemAYu8bs2"
      },
      "source": [
        "###Q4 The team at Chinook would like to identify all the customers who listen to Rock music. Write a query to return the email, first name, last name, and Genre of all Rock Music listeners. Return our list ordered alphabetically by email address starting with 'A'.\n",
        "\n",
        "Check our solution\n",
        "\n",
        "Our final table should have 59 rows and 4 columns."
      ]
    },
    {
      "cell_type": "code",
      "metadata": {
        "id": "IevtRTUs8c1K"
      },
      "source": [
        "SELECT C.Email,C.FirstName,C.LastName,G.Name\n",
        "FROM Customer C\n",
        "Join Invoice I\n",
        "On C.CustomerId= I.CustomerId\n",
        "Join InvoiceLine Inv\n",
        "On I.InvoiceId= Inv.InvoiceId\n",
        "Join Track T\n",
        "On T.TrackId = Inv.TrackId\n",
        "Join Genre G\n",
        "On G.GenreId = T.GenreId\n",
        "WHERE G.Name = 'Rock'\n",
        "group by Email"
      ],
      "execution_count": null,
      "outputs": []
    },
    {
      "cell_type": "markdown",
      "metadata": {
        "id": "MkmMkK-v8ycL"
      },
      "source": [
        "###Q5 Write a query that determines the customer that has spent the most on music for each country. Write a query that returns the country along with the top customer and how much they spent. For countries where the top amount spent is shared, provide all customers who spent this amount.\n",
        "\n",
        "We should only need to use the Customer and Invoice tables.\n",
        "\n",
        "Check our Solution\n",
        "\n",
        "Though there are only 24 countries, our query should return 25 rows because the United Kingdom has 2 customers that share the maximum.\""
      ]
    },
    {
      "cell_type": "code",
      "metadata": {
        "id": "LvLoOLtA9WA2"
      },
      "source": [
        "with c as(select Invoice.CustomerId as id_cst, Invoice.BillingCountry as Country, sum(Invoice.Total) as som from Invoice\n",
        "join Customer on Invoice.BillingCountry = Customer.Country and Invoice.CustomerId = Customer.CustomerId\n",
        "group by 1,2\n",
        "order by 2 ),\n",
        "Customers as (select Customer.CustomerId as cust_id, Customer.FirstName as name_customer, Customer.LastName as lastname_customer from Customer)\n",
        "\n",
        "SELECT customers.cust_id, customers.name_customer,customers.lastname_customer, b.country, b.max_som from Customers,\n",
        "(SELECT a.country as country, max(a.som) as max_som from\n",
        "(SELECT Invoice.CustomerId as id_cst, Invoice.BillingCountry as Country, sum(Invoice.Total) as som from Invoice join Customer on Invoice.BillingCountry = Customer.Country and Invoice.CustomerId = Customer.CustomerId\n",
        "group by 1,2\n",
        "order by 2 ) as a\n",
        "group by 1\n",
        "order by 2 ) as b\n",
        "join c\n",
        "on c.country = b.country and c.som = b.max_som\n",
        "WHERE Customers.cust_id = c.id_cst"
      ],
      "execution_count": null,
      "outputs": []
    }
  ]
}